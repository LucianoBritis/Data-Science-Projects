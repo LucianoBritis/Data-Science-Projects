{
 "cells": [
  {
   "attachments": {},
   "cell_type": "markdown",
   "id": "031495a9",
   "metadata": {
    "deletable": false,
    "editable": false
   },
   "source": [
    "<font size=\"+3\"><strong>Data Dictionary</strong></font>"
   ]
  },
  {
   "attachments": {},
   "cell_type": "markdown",
   "id": "ae194c71",
   "metadata": {
    "deletable": false,
    "editable": false
   },
   "source": [
    "# About this data"
   ]
  },
  {
   "attachments": {},
   "cell_type": "markdown",
   "id": "a82acd9e",
   "metadata": {
    "deletable": false,
    "editable": false
   },
   "source": [
    "This [`site`](https://ai-jobs.net/salaries/download) collects salary information anonymously from professionals all over the world in the AI, ML, Data Science space and makes it publicly available for anyone to use, share and play around with.\n",
    "\n",
    "The primary goal is to have data that can provide better guidance in regards to what's being paid globally. So newbies, experienced pros, hiring managers, recruiters and also startup founders or people wanting to make a career switch can make better informed decisions."
   ]
  },
  {
   "attachments": {},
   "cell_type": "markdown",
   "id": "53b0ecf1",
   "metadata": {},
   "source": [
    "### Download \n",
    "\n",
    "- Download the dataset as a single file in CSV format.\n",
    "\n",
    "- Download the dataset as a single file in JSON format."
   ]
  },
  {
   "attachments": {},
   "cell_type": "markdown",
   "id": "a82ab7b7",
   "metadata": {
    "deletable": false,
    "editable": false
   },
   "source": [
    "### What's inside?\n",
    "\n",
    "The download basically contains a single table with all salary information structured as follows:"
   ]
  },
  {
   "attachments": {},
   "cell_type": "markdown",
   "id": "3deeb5da",
   "metadata": {},
   "source": [
    "\n",
    "| **Feature**            | **Description**                                              | **Description levels**                                       |\n",
    "| :---------------------- | :------------------------------------------------------------ | :------------------------------------------------------------ |\n",
    "| **work_year**          | The year the salary was paid.                                |                                                              |\n",
    "| **experience_level**   | The experience level in the job during the year with the following possible values: | **EN** Entry-level / Junior; <br />**MI** Mid-level / Intermediate; <br />**SE** Senior-level / Expert; <br />**EX** Executive-level / Director |\n",
    "| **employment_type**    | The type of employement for the role:                        | **PT** Part-time; <br />**FT** Full-time; <br />**CT** Contract; <br />**FL** Freelance |\n",
    "| **job_title**          | The role worked in during the year.                          |                                                              |\n",
    "| **salary**             | The total gross salary amount paid.                          |                                                              |\n",
    "| **salary_currency**    | The currency of the salary paid as an ISO 4217 currency code. |                                                              |\n",
    "| **salary_in_usd**      | The salary in USD (FX rate divided by avg. USD rate of respective year via data from [BIS](https://www.bis.org/statistics/about_fx_stats.htm)). |                                                              |\n",
    "| **employee_residence** | Employee's primary country of residence in during the work year as an ISO 3166 country code. |                                                              |\n",
    "| **remote_ratio**       | The overall amount of work done remotely, possible values are as follows: | **0**    No remote work; <br />**50**    Partially remote/hybird; <br />**100**    Fully remote |\n",
    "| **company_location**   | The country of the employer's main office or contracting branch as an ISO 3166 country code. |                                                              |\n",
    "| **company_size**       | The average number of people that worked for the company during the year: | **S**    less than 50 employees (**small**); <br />**M**    50 to 250 employees (**medium**);<br />**L**    more than 250 employees (**large**) |"
   ]
  },
  {
   "attachments": {},
   "cell_type": "markdown",
   "id": "167c98a2",
   "metadata": {},
   "source": [
    "---\n",
    "The whole dataset is published in the public domain under the [CC0 license](https://creativecommons.org/publicdomain/zero/1.0/legalcode)."
   ]
  }
 ],
 "metadata": {
  "kernelspec": {
   "display_name": "Python 3 (ipykernel)",
   "language": "python",
   "name": "python3"
  },
  "language_info": {
   "codemirror_mode": {
    "name": "ipython",
    "version": 3
   },
   "file_extension": ".py",
   "mimetype": "text/x-python",
   "name": "python",
   "nbconvert_exporter": "python",
   "pygments_lexer": "ipython3",
   "version": "3.9.6"
  }
 },
 "nbformat": 4,
 "nbformat_minor": 5
}
